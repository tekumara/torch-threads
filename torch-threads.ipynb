{
 "cells": [
  {
   "cell_type": "markdown",
   "metadata": {},
   "source": [
    "## Benchmarking a simple torch program with different numbers of threads\n"
   ]
  },
  {
   "cell_type": "code",
   "execution_count": 1,
   "metadata": {},
   "outputs": [],
   "source": [
    "import torch"
   ]
  },
  {
   "cell_type": "code",
   "execution_count": 2,
   "metadata": {},
   "outputs": [
    {
     "name": "stdout",
     "output_type": "stream",
     "text": [
      "Physical cores: 6\n",
      "Total cores: 12\n"
     ]
    }
   ],
   "source": [
    "import platform\n",
    "import psutil\n",
    "platform.platform()\n",
    "\n",
    "print(\"Physical cores:\", psutil.cpu_count(logical=False))\n",
    "print(\"Total cores:\", psutil.cpu_count(logical=True))"
   ]
  },
  {
   "cell_type": "code",
   "execution_count": 3,
   "metadata": {},
   "outputs": [
    {
     "name": "stdout",
     "output_type": "stream",
     "text": [
      "ATen/Parallel:\n",
      "\tat::get_num_threads() : 1\n",
      "\tat::get_num_interop_threads() : 6\n",
      "OpenMP not found\n",
      "Intel(R) Math Kernel Library Version 2019.0.5 Product Build 20190808 for Intel(R) 64 architecture applications\n",
      "\tmkl_get_max_threads() : 6\n",
      "Intel(R) MKL-DNN v0.21.1 (Git Hash 7d2fd500bc78936d1d648ca713b901012f470dbc)\n",
      "std::thread::hardware_concurrency() : 12\n",
      "Environment variables:\n",
      "\tOMP_NUM_THREADS : [not set]\n",
      "\tMKL_NUM_THREADS : [not set]\n",
      "ATen parallel backend: OpenMP\n",
      "\n"
     ]
    }
   ],
   "source": [
    "print(torch.__config__.parallel_info())"
   ]
  },
  {
   "cell_type": "code",
   "execution_count": 4,
   "metadata": {},
   "outputs": [],
   "source": [
    "# taken from https://pytorch.org/docs/master/notes/cpu_threading_torchscript_inference.html\n",
    "import timeit\n",
    "\n",
    "runtimes = []\n",
    "cpu_percent = []\n",
    "threads = [1] + [t for t in range(2, 49, 2)]\n",
    "\n",
    "for t in threads:\n",
    "    torch.set_num_threads(t)\n",
    "    r = timeit.timeit(setup = \"import torch; x = torch.randn(1024, 1024); y = torch.randn(1024, 1024)\", stmt=\"torch.mm(x, y)\", number=100)\n",
    "    cpu_percent.append(psutil.cpu_percent())\n",
    "    runtimes.append(r)"
   ]
  },
  {
   "cell_type": "code",
   "execution_count": 5,
   "metadata": {},
   "outputs": [
    {
     "name": "stdout",
     "output_type": "stream",
     "text": [
      "ATen/Parallel:\n",
      "\tat::get_num_threads() : 1\n",
      "\tat::get_num_interop_threads() : 6\n",
      "OpenMP not found\n",
      "Intel(R) Math Kernel Library Version 2019.0.5 Product Build 20190808 for Intel(R) 64 architecture applications\n",
      "\tmkl_get_max_threads() : 48\n",
      "Intel(R) MKL-DNN v0.21.1 (Git Hash 7d2fd500bc78936d1d648ca713b901012f470dbc)\n",
      "std::thread::hardware_concurrency() : 12\n",
      "Environment variables:\n",
      "\tOMP_NUM_THREADS : [not set]\n",
      "\tMKL_NUM_THREADS : [not set]\n",
      "ATen parallel backend: OpenMP\n",
      "\n"
     ]
    }
   ],
   "source": [
    "print(torch.__config__.parallel_info())"
   ]
  },
  {
   "cell_type": "code",
   "execution_count": 6,
   "metadata": {},
   "outputs": [],
   "source": [
    "import matplotlib.pyplot as plt"
   ]
  },
  {
   "cell_type": "code",
   "execution_count": 7,
   "metadata": {},
   "outputs": [
    {
     "data": {
      "text/plain": [
       "[<matplotlib.lines.Line2D at 0x134279c18>]"
      ]
     },
     "execution_count": 7,
     "metadata": {},
     "output_type": "execute_result"
    },
    {
     "data": {
      "image/png": "[encoded data removed]",
      "text/plain": [
       "<Figure size 432x288 with 1 Axes>"
      ]
     },
     "metadata": {
      "needs_background": "light"
     },
     "output_type": "display_data"
    }
   ],
   "source": [
    "plt.plot(threads, runtimes)"
   ]
  },
  {
   "cell_type": "code",
   "execution_count": 8,
   "metadata": {},
   "outputs": [
    {
     "data": {
      "text/plain": [
       "[<matplotlib.lines.Line2D at 0x134488be0>]"
      ]
     },
     "execution_count": 8,
     "metadata": {},
     "output_type": "execute_result"
    },
    {
     "data": {
      "image/png": "[encoded data removed]",
      "text/plain": [
       "<Figure size 432x288 with 1 Axes>"
      ]
     },
     "metadata": {
      "needs_background": "light"
     },
     "output_type": "display_data"
    }
   ],
   "source": [
    "plt.plot(threads, cpu_percent)"
   ]
  },
  {
   "cell_type": "code",
   "execution_count": 9,
   "metadata": {},
   "outputs": [
    {
     "data": {
      "text/plain": [
       "[2.0968778929964174,\n",
       " 1.000044562999392,\n",
       " 0.6278940079937456,\n",
       " 0.4743933610006934,\n",
       " 0.5159387229941785,\n",
       " 0.48599507099424955,\n",
       " 0.4609797220036853,\n",
       " 0.6007471030025044,\n",
       " 0.5820977310067974,\n",
       " 0.545360524993157,\n",
       " 0.5752131549961632,\n",
       " 0.6148760700016282,\n",
       " 0.6198066899960395,\n",
       " 0.6404275120003149,\n",
       " 0.6114362289954443,\n",
       " 0.5717737480008509,\n",
       " 0.5894423429999733,\n",
       " 0.5738609769905452,\n",
       " 0.6355331920058234,\n",
       " 0.7131181840086356,\n",
       " 0.6686783350014593,\n",
       " 0.6438402089988813,\n",
       " 0.5987915279984009,\n",
       " 0.6109846640028991,\n",
       " 0.6301985449972562]"
      ]
     },
     "execution_count": 9,
     "metadata": {},
     "output_type": "execute_result"
    }
   ],
   "source": [
    "runtimes"
   ]
  },
  {
   "cell_type": "code",
   "execution_count": 10,
   "metadata": {},
   "outputs": [
    {
     "data": {
      "text/plain": [
       "[1,\n",
       " 2,\n",
       " 4,\n",
       " 6,\n",
       " 8,\n",
       " 10,\n",
       " 12,\n",
       " 14,\n",
       " 16,\n",
       " 18,\n",
       " 20,\n",
       " 22,\n",
       " 24,\n",
       " 26,\n",
       " 28,\n",
       " 30,\n",
       " 32,\n",
       " 34,\n",
       " 36,\n",
       " 38,\n",
       " 40,\n",
       " 42,\n",
       " 44,\n",
       " 46,\n",
       " 48]"
      ]
     },
     "execution_count": 10,
     "metadata": {},
     "output_type": "execute_result"
    }
   ],
   "source": [
    "threads"
   ]
  },
  {
   "cell_type": "code",
   "execution_count": 11,
   "metadata": {},
   "outputs": [
    {
     "data": {
      "text/plain": [
       "[18.0,\n",
       " 23.0,\n",
       " 47.1,\n",
       " 59.6,\n",
       " 73.0,\n",
       " 92.2,\n",
       " 98.3,\n",
       " 99.3,\n",
       " 99.4,\n",
       " 99.4,\n",
       " 99.2,\n",
       " 99.6,\n",
       " 98.7,\n",
       " 99.0,\n",
       " 98.9,\n",
       " 99.4,\n",
       " 98.5,\n",
       " 99.2,\n",
       " 98.9,\n",
       " 98.5,\n",
       " 99.3,\n",
       " 99.1,\n",
       " 98.9,\n",
       " 98.8,\n",
       " 99.1]"
      ]
     },
     "execution_count": 11,
     "metadata": {},
     "output_type": "execute_result"
    }
   ],
   "source": [
    "cpu_percent"
   ]
  }
 ],
 "metadata": {
  "kernelspec": {
   "display_name": "Python 3",
   "language": "python",
   "name": "python3"
  },
  "language_info": {
   "codemirror_mode": {
    "name": "ipython",
    "version": 3
   },
   "file_extension": ".py",
   "mimetype": "text/x-python",
   "name": "python",
   "nbconvert_exporter": "python",
   "pygments_lexer": "ipython3",
   "version": "3.6.9"
  }
 },
 "nbformat": 4,
 "nbformat_minor": 4
}
